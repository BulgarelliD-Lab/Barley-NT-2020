{
 "cells": [
  {
   "cell_type": "markdown",
   "metadata": {},
   "source": [
    "# ASV production with dada2\n",
    "\n",
    "The sequences consist of two separate libraries, named JH02 and JH16. Demultiplexed fastq files are placed in a `fastq` subdirectory within a directory named after the library. in Initial QC was carried out using fastqc and results summarised with MulitQC. The metadata for each library is required in a file named, for example, `JH02_metadata.txt`"
   ]
  },
  {
   "cell_type": "markdown",
   "metadata": {},
   "source": [
    "## Downloading silva\n",
    "\n",
    "The silva v138 data used for this analysis can be downloaded from zenodo:"
   ]
  },
  {
   "cell_type": "code",
   "execution_count": null,
   "metadata": {},
   "outputs": [],
   "source": [
    "!wget -O silva_nr_v138_train_set.fa.gz  https://zenodo.org/record/3731176/files/silva_nr_v138_train_set.fa.gz?download=1 "
   ]
  },
  {
   "cell_type": "markdown",
   "metadata": {},
   "source": [
    "## Running dada2\n",
    "\n",
    "A separate job submission is made for each library using the `dada.R` script:"
   ]
  },
  {
   "cell_type": "code",
   "execution_count": null,
   "metadata": {},
   "outputs": [],
   "source": [
    "%%bash\n",
    "\n",
    "for dir in 'JH02' 'JH16'; do\n",
    "    cd $dir\n",
    "    qsub -cwd bin/dada2.R -r fastq -m ${dir}_metadata.txt -n ${dir} -t ../silva_nr_v138_train_set.fa.gz\n",
    "    cd -\n",
    "done"
   ]
  },
  {
   "cell_type": "markdown",
   "metadata": {},
   "source": [
    "This results in the production of a serialised phyloseq object as an rds file which is used for downstream analysis. These can be read back into R as follows:"
   ]
  },
  {
   "cell_type": "code",
   "execution_count": null,
   "metadata": {},
   "outputs": [],
   "source": [
    "jh02<-readRDS('JH02_dada2.rds')\n",
    "jh16<-readRDS('JH16_dada2.rds')"
   ]
  }
 ],
 "metadata": {
  "kernelspec": {
   "display_name": "Python [conda env:dada2]",
   "language": "python",
   "name": "conda-env-dada2-py"
  },
  "language_info": {
   "codemirror_mode": {
    "name": "ipython",
    "version": 3
   },
   "file_extension": ".py",
   "mimetype": "text/x-python",
   "name": "python",
   "nbconvert_exporter": "python",
   "pygments_lexer": "ipython3",
   "version": "3.6.7"
  }
 },
 "nbformat": 4,
 "nbformat_minor": 2
}
